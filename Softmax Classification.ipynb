{
 "cells": [
  {
   "cell_type": "code",
   "execution_count": 1,
   "metadata": {},
   "outputs": [
    {
     "name": "stderr",
     "output_type": "stream",
     "text": [
      "C:\\WinPython-64bit-3.6.3.0Qt5\\python-3.6.3.amd64\\lib\\site-packages\\h5py\\__init__.py:36: FutureWarning: Conversion of the second argument of issubdtype from `float` to `np.floating` is deprecated. In future, it will be treated as `np.float64 == np.dtype(float).type`.\n",
      "  from ._conv import register_converters as _register_converters\n"
     ]
    }
   ],
   "source": [
    "import tensorflow as tf"
   ]
  },
  {
   "cell_type": "code",
   "execution_count": 2,
   "metadata": {},
   "outputs": [],
   "source": [
    "x_data = [[1, 2, 1, 1], [2, 1, 3, 2], [3, 1, 3, 4], [4, 1, 5, 5], [1, 7, 5, 5], [1, 2, 5, 6], [1, 6, 6, 6], [1, 7, 7, 7]]\n",
    "y_data = [[0, 0, 1], [0, 0, 1], [0, 0, 1], [0, 1, 0], [0, 1, 0], [0, 1, 0], [1, 0, 0], [1, 0, 0]]"
   ]
  },
  {
   "cell_type": "code",
   "execution_count": 3,
   "metadata": {},
   "outputs": [
    {
     "name": "stdout",
     "output_type": "stream",
     "text": [
      "[[-0.00580716  0.85689634  0.94493204]\n",
      " [-0.9610297   1.1913766   0.63195264]\n",
      " [-0.8567548   0.4199271   0.22990572]\n",
      " [-1.2879082  -0.5414108  -0.06244071]] [-0.4765415   0.10505847  0.49438447]\n",
      "[[-1.3649076   0.7967811   2.3641477 ]\n",
      " [ 0.25874013  0.00611793  0.5974423 ]\n",
      " [ 1.1271355  -0.23758858 -1.0964681 ]\n",
      " [-0.75369567 -0.00987054 -1.1281914 ]] [-1.449185   -0.66185796  2.233942  ]\n",
      "[[-2.140885    1.0041115   2.932795  ]\n",
      " [ 0.05080508  0.0755069   0.7359899 ]\n",
      " [ 2.0088644  -0.47534376 -1.7404418 ]\n",
      " [-1.1308109   0.29697064 -1.0579159 ]] [-2.1821277  -0.85374624  3.158772  ]\n",
      "[[-2.6713269   1.1337382   3.333608  ]\n",
      " [-0.09931613  0.11899289  0.84262663]\n",
      " [ 2.650281   -0.605699   -2.2515032 ]\n",
      " [-1.4522691   0.5323082  -0.97179407]] [-2.6936936 -1.0285492  3.8451426]\n",
      "[[-3.0926158   1.2395235   3.64911   ]\n",
      " [-0.19622235  0.12013371  0.938392  ]\n",
      " [ 3.2031298  -0.7459363  -2.664112  ]\n",
      " [-1.7139658   0.7115755  -0.88936484]] [-3.1032634 -1.1723871  4.3985515]\n",
      "[[-3.4488537   1.3320025   3.9128723 ]\n",
      " [-0.2791141   0.12227519  1.0191425 ]\n",
      " [ 3.683792   -0.87473416 -3.015973  ]\n",
      " [-1.9474196   0.8692385  -0.81357473]] [-3.4513993 -1.2896496  4.863957 ]\n"
     ]
    }
   ],
   "source": [
    "X = tf.placeholder(tf.float32, [None, 4])\n",
    "Y = tf.placeholder(tf.float32, [None, 3])\n",
    "nb_classes = 3\n",
    "\n",
    "W = tf.Variable(tf.random_normal([4, nb_classes]), name = 'weights')\n",
    "b = tf.Variable(tf.random_normal([nb_classes]), name = 'bias')\n",
    "\n",
    "\n",
    "## tf.nn.softmax computes softmax activations\n",
    "hypothesis = tf.nn.softmax(tf.matmul(X,W) + b)\n",
    "\n",
    "cost = tf.reduce_mean(-tf.reduce_sum(Y * tf.log(hypothesis), axis=1))\n",
    "optimizer = tf.train.GradientDescentOptimizer(learning_rate=0.1)\n",
    "train = optimizer.minimize(cost)\n",
    "\n",
    "predicted = tf.argmax(hypothesis, 1)\n",
    "\n",
    "\n",
    "# Launch graph\n",
    "with tf.Session() as sess:\n",
    "    sess.run(tf.global_variables_initializer())\n",
    "    \n",
    "    for step in range(2001):\n",
    "        train_val, W_val, b_val = sess.run([train, W, b], feed_dict={X:x_data, Y:y_data})\n",
    "        if step % 400 == 0:\n",
    "            print(W_val, b_val)\n",
    "    h = sess.run(predicted, feed_dict={X:x_data, Y:y_data})"
   ]
  },
  {
   "cell_type": "code",
   "execution_count": 4,
   "metadata": {},
   "outputs": [
    {
     "name": "stdout",
     "output_type": "stream",
     "text": [
      "[2 2 2 1 1 1 0 0]\n"
     ]
    }
   ],
   "source": [
    "print(h)"
   ]
  },
  {
   "cell_type": "code",
   "execution_count": null,
   "metadata": {},
   "outputs": [],
   "source": []
  }
 ],
 "metadata": {
  "kernelspec": {
   "display_name": "Python 3",
   "language": "python",
   "name": "python3"
  },
  "language_info": {
   "codemirror_mode": {
    "name": "ipython",
    "version": 3
   },
   "file_extension": ".py",
   "mimetype": "text/x-python",
   "name": "python",
   "nbconvert_exporter": "python",
   "pygments_lexer": "ipython3",
   "version": "3.6.3"
  }
 },
 "nbformat": 4,
 "nbformat_minor": 2
}
